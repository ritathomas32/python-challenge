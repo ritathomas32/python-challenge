{
 "cells": [
  {
   "cell_type": "code",
   "execution_count": 1,
   "id": "06f64ba0-4208-481a-bb5e-edd5981ea460",
   "metadata": {},
   "outputs": [],
   "source": [
    "from pathlib import Path \n",
    "\n",
    "from csv import reader\n",
    "import csv"
   ]
  },
  {
   "cell_type": "code",
   "execution_count": 2,
   "id": "f504535b-89bb-4ea5-aa10-dc4794d3b1e5",
   "metadata": {},
   "outputs": [
    {
     "name": "stdout",
     "output_type": "stream",
     "text": [
      "budget_data.csv\n"
     ]
    }
   ],
   "source": [
    "csvpath = Path(\"budget_data.csv\")\n",
    "\n",
    "print (csvpath)"
   ]
  },
  {
   "cell_type": "code",
   "execution_count": 3,
   "id": "fd2775b7-f3ae-4178-a2ea-ff7debef7f52",
   "metadata": {},
   "outputs": [],
   "source": [
    "#Variables\n",
    "\n",
    "total_month = 0\n",
    "net_profit_loss = 0\n",
    "revenue_change = []\n",
    "greatest_decrease = [\"\", 9999999]\n",
    "greatest_increase = [\"\", 0]\n",
    "total_revenue = 0\n",
    "\n",
    "with open(csvpath) as budget_data:\n",
    "    csvreader = csv.reader(budget_data)\n",
    "    csv_header =next(csvreader)\n",
    "    first_row = next(csvreader)\n",
    "    total_month = total_month +1\n",
    "    net_profit_loss = net_profit_loss+int(first_row[1])\n",
    "    previous_net = int(first_row[1])\n",
    "    \n",
    "\n",
    "\n",
    "    for row in csvreader:\n",
    "        total_month = total_month +1 \n",
    "        net_profit_loss = net_profit_loss + int(row[1])\n",
    "        net_change = int(row[1]) - previous_net\n",
    "        revenue_change = revenue_change + [row[0]]\n",
    "    \n",
    "  \n",
    "\n",
    "    if net_profit_loss>greatest_increase[1]:\n",
    "        greatest_increase[0]=row[0]\n",
    "        greatest_increase[1]=net_change\n",
    "        \n",
    "        \n",
    "    \n",
    "    if net_profit_loss>greatest_decrease[1]:\n",
    "        greatest_decrease[0]=row[0]\n",
    "        greatest_decrease[1]=net_change\n",
    "        \n",
    "                        \n",
    "\n"
   ]
  },
  {
   "cell_type": "code",
   "execution_count": 4,
   "id": "78f7b39c-899a-4942-8857-4093f520a75c",
   "metadata": {},
   "outputs": [],
   "source": [
    "output = Path(\"output.csv\")\n",
    "                 \n",
    "output = Path(\"output.csv\")\n",
    "                 \n",
    "#write changes to csv\n",
    "with open(output, 'w') as file:\n",
    "    file.write(\"Financial Analysis\\n\")\n",
    "    file.write(\"---------------------\\n\")\n",
    "    file.write(\"Total Months: {total_month}\\n\")\n",
    "    file.write(\"Total Revenue: ${net_profit_loss}\\n\")\n",
    "    file.write(\"Average Revenue Change: ${revenue_change}\\n\")\n",
    "    file.write(\"Greatest Increase in Revenue: %s ($%s)\\n\" % (greatest_increase[0], greatest_increase[1]))\n",
    "    file.write(\"Greatest Decrease in Revenue: %s ($%s)\\n\" % (greatest_decrease[0], greatest_decrease[1]))\n"
   ]
  },
  {
   "cell_type": "code",
   "execution_count": 5,
   "id": "9779e682-321b-4828-b79f-7bb3d67b6373",
   "metadata": {},
   "outputs": [
    {
     "name": "stdout",
     "output_type": "stream",
     "text": [
      "Financial Analysis\n",
      "\n",
      "---------------------\n",
      "\n",
      "Total Months: 86\n",
      "\n",
      "Total Revenue: ${net_profit_loss}\n",
      "\n",
      "Average Revenue Change: ${revenue_change}\n",
      "\n",
      "Greatest Increase in Revenue: Feb-2017 ($-196785)\n",
      "\n",
      "Greatest Decrease in Revenue: Feb-2017 ($-196785)\n",
      "\n"
     ]
    }
   ],
   "source": [
    "    print(\"Financial Analysis\\n\")\n",
    "    print(\"---------------------\\n\")\n",
    "    print(\"Total Months: %d\\n\" % total_month)\n",
    "    print(\"Total Revenue: ${net_profit_loss}\\n\")\n",
    "    print(\"Average Revenue Change: ${revenue_change}\\n\")\n",
    "    print(\"Greatest Increase in Revenue: %s ($%s)\\n\" % (greatest_increase[0], greatest_increase[1]))\n",
    "    print(\"Greatest Decrease in Revenue: %s ($%s)\\n\" % (greatest_decrease[0], greatest_decrease[1]))\n"
   ]
  },
  {
   "cell_type": "code",
   "execution_count": null,
   "id": "ad12c64c-9436-463f-88f6-42bc25d795f4",
   "metadata": {},
   "outputs": [],
   "source": []
  },
  {
   "cell_type": "code",
   "execution_count": null,
   "id": "cb9fd526-f688-4201-90fd-6cc4698998ab",
   "metadata": {},
   "outputs": [],
   "source": []
  },
  {
   "cell_type": "code",
   "execution_count": null,
   "id": "3ba1a4ad-e057-4d27-b1ee-ed83d12a3047",
   "metadata": {},
   "outputs": [],
   "source": []
  }
 ],
 "metadata": {
  "kernelspec": {
   "display_name": "Python 3 (ipykernel)",
   "language": "python",
   "name": "python3"
  },
  "language_info": {
   "codemirror_mode": {
    "name": "ipython",
    "version": 3
   },
   "file_extension": ".py",
   "mimetype": "text/x-python",
   "name": "python",
   "nbconvert_exporter": "python",
   "pygments_lexer": "ipython3",
   "version": "3.9.12"
  }
 },
 "nbformat": 4,
 "nbformat_minor": 5
}
